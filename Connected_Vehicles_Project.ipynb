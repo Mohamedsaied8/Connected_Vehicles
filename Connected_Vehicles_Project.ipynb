{
  "nbformat": 4,
  "nbformat_minor": 0,
  "metadata": {
    "colab": {
      "name": "Connected_Vehicles_Project_CSE616.ipynb",
      "provenance": [],
      "collapsed_sections": []
    },
    "kernelspec": {
      "name": "python3",
      "display_name": "Python 3"
    },
    "language_info": {
      "name": "python"
    }
  },
  "cells": [
    {
      "cell_type": "markdown",
      "metadata": {
        "id": "uqLAklGQt5gu"
      },
      "source": [
        "# Design and Implementation of AI Secuirty Scheme for Connected Vehicles\n",
        "##CSE616 Neural Networks Project\n",
        "## By Mohamed Saied and Ahmed Gamal\n",
        "## Under Supervision of Prof.Dr Hazem Abbas\n",
        "## Ain Shams University\n"
      ]
    },
    {
      "cell_type": "code",
      "metadata": {
        "id": "bTZboUheQN52"
      },
      "source": [
        "import numpy as np\n",
        "import pandas as pd\n",
        "import random\n",
        "\n",
        "from imutils import paths\n",
        "from sklearn.model_selection import train_test_split\n",
        "from sklearn.preprocessing import LabelBinarizer\n",
        "from sklearn.utils import shuffle\n",
        "from sklearn.metrics import recall_score\n",
        "from sklearn.metrics import accuracy_score, precision_recall_curve, precision_score, recall_score, average_precision_score\n",
        "\n",
        "import torch\n",
        "import torch.nn as nn\n",
        "import matplotlib.pyplot as plt\n",
        "import torch.nn.functional as F\n",
        "from torch.utils.data import DataLoader, TensorDataset, random_split\n"
      ],
      "execution_count": null,
      "outputs": []
    },
    {
      "cell_type": "code",
      "metadata": {
        "colab": {
          "base_uri": "https://localhost:8080/"
        },
        "id": "LE15GisZQaUt",
        "outputId": "20bb9769-f2ae-4033-beca-b5980007d6d4"
      },
      "source": [
        "!git clone https://github.com/Mohamedsaied8/Connected_Vehicles.git"
      ],
      "execution_count": 67,
      "outputs": [
        {
          "output_type": "stream",
          "text": [
            "Cloning into 'Connected_Vehicles'...\n",
            "remote: Enumerating objects: 26, done.\u001b[K\n",
            "remote: Counting objects:   3% (1/26)\u001b[K\rremote: Counting objects:   7% (2/26)\u001b[K\rremote: Counting objects:  11% (3/26)\u001b[K\rremote: Counting objects:  15% (4/26)\u001b[K\rremote: Counting objects:  19% (5/26)\u001b[K\rremote: Counting objects:  23% (6/26)\u001b[K\rremote: Counting objects:  26% (7/26)\u001b[K\rremote: Counting objects:  30% (8/26)\u001b[K\rremote: Counting objects:  34% (9/26)\u001b[K\rremote: Counting objects:  38% (10/26)\u001b[K\rremote: Counting objects:  42% (11/26)\u001b[K\rremote: Counting objects:  46% (12/26)\u001b[K\rremote: Counting objects:  50% (13/26)\u001b[K\rremote: Counting objects:  53% (14/26)\u001b[K\rremote: Counting objects:  57% (15/26)\u001b[K\rremote: Counting objects:  61% (16/26)\u001b[K\rremote: Counting objects:  65% (17/26)\u001b[K\rremote: Counting objects:  69% (18/26)\u001b[K\rremote: Counting objects:  73% (19/26)\u001b[K\rremote: Counting objects:  76% (20/26)\u001b[K\rremote: Counting objects:  80% (21/26)\u001b[K\rremote: Counting objects:  84% (22/26)\u001b[K\rremote: Counting objects:  88% (23/26)\u001b[K\rremote: Counting objects:  92% (24/26)\u001b[K\rremote: Counting objects:  96% (25/26)\u001b[K\rremote: Counting objects: 100% (26/26)\u001b[K\rremote: Counting objects: 100% (26/26), done.\u001b[K\n",
            "remote: Compressing objects: 100% (22/22), done.\u001b[K\n",
            "remote: Total 26 (delta 3), reused 24 (delta 3), pack-reused 0\u001b[K\n",
            "Unpacking objects: 100% (26/26), done.\n"
          ],
          "name": "stdout"
        }
      ]
    },
    {
      "cell_type": "code",
      "metadata": {
        "id": "zxK9kpqbRRAW"
      },
      "source": [
        "dataset = pd.read_csv(\"Connected_Vehicles/Main_data_shuffled.csv\")"
      ],
      "execution_count": 68,
      "outputs": []
    },
    {
      "cell_type": "code",
      "metadata": {
        "colab": {
          "base_uri": "https://localhost:8080/"
        },
        "id": "kVWWd10MQgrp",
        "outputId": "f527b54a-24a6-4d59-d844-a48d9f167414"
      },
      "source": [
        "dataset.attacktype.unique()"
      ],
      "execution_count": 69,
      "outputs": [
        {
          "output_type": "execute_result",
          "data": {
            "text/plain": [
              "array([5, 1, 0, 3, 2, 4])"
            ]
          },
          "metadata": {
            "tags": []
          },
          "execution_count": 69
        }
      ]
    },
    {
      "cell_type": "code",
      "metadata": {
        "colab": {
          "base_uri": "https://localhost:8080/"
        },
        "id": "pkDTnUToQhYK",
        "outputId": "9dc41504-2101-439e-eda9-c3e3ffa03d24"
      },
      "source": [
        "X = dataset.iloc[:,:4].values\n",
        "y = dataset.iloc[:,4:5].values\n",
        "X"
      ],
      "execution_count": 70,
      "outputs": [
        {
          "output_type": "execute_result",
          "data": {
            "text/plain": [
              "array([[-3.3626e+00,  2.9137e+01,  2.9330e+01,  0.0000e+00],\n",
              "       [ 1.0013e+01,  6.2102e-01,  1.0033e+01,  0.0000e+00],\n",
              "       [ 2.8339e-01,  1.8390e-02,  2.8399e-01,  2.1720e+02],\n",
              "       ...,\n",
              "       [ 1.1994e-01, -1.1851e-02,  1.2053e-01,  3.6423e+02],\n",
              "       [ 2.7600e-01, -1.9197e-01,  3.3619e-01,  6.9873e+01],\n",
              "       [ 7.5449e-02, -8.5621e-03,  7.5933e-02,  2.8540e+02]])"
            ]
          },
          "metadata": {
            "tags": []
          },
          "execution_count": 70
        }
      ]
    },
    {
      "cell_type": "code",
      "metadata": {
        "colab": {
          "base_uri": "https://localhost:8080/"
        },
        "id": "TmeHDrHSQj9h",
        "outputId": "1d9b0854-49c4-416a-b8cb-b8208fbd320b"
      },
      "source": [
        "#Normalizing data\n",
        "from sklearn.preprocessing import StandardScaler\n",
        "sc = StandardScaler()\n",
        "X = sc.fit_transform(X)\n",
        "X"
      ],
      "execution_count": null,
      "outputs": [
        {
          "output_type": "execute_result",
          "data": {
            "text/plain": [
              "array([[-2.91097706e-02,  2.62138960e-01,  1.07145256e-01,\n",
              "        -4.94288635e-01],\n",
              "       [ 8.22958841e-02,  5.68466066e-03, -1.10870076e-02,\n",
              "        -4.94288635e-01],\n",
              "       [ 1.25775707e-03,  2.64995815e-04, -7.08189621e-02,\n",
              "        -8.91221354e-02],\n",
              "       ...,\n",
              "       [-1.03621431e-04, -6.97219970e-06, -7.18204776e-02,\n",
              "         1.85148723e-01],\n",
              "       [ 1.19620560e-03, -1.62684611e-03, -7.04991339e-02,\n",
              "        -3.63947020e-01],\n",
              "       [-4.74187909e-04,  2.26060419e-05, -7.20937224e-02,\n",
              "         3.80986532e-02]])"
            ]
          },
          "metadata": {
            "tags": []
          },
          "execution_count": 6
        }
      ]
    },
    {
      "cell_type": "code",
      "metadata": {
        "id": "0KNrDl73RhSb"
      },
      "source": [
        "lb = LabelBinarizer()\n",
        "y = lb.fit_transform(y)"
      ],
      "execution_count": null,
      "outputs": []
    },
    {
      "cell_type": "code",
      "metadata": {
        "colab": {
          "base_uri": "https://localhost:8080/"
        },
        "id": "UYggpH8sVDMG",
        "outputId": "7d54d515-873b-4632-d5f1-a1410f6208c0"
      },
      "source": [
        "inputs = torch.from_numpy(X).type(torch.float)\n",
        "targets = torch.from_numpy(y).type(torch.long)\n",
        "dataset = TensorDataset(inputs, targets)\n",
        "dataset[0][0].unsqueeze(dim=0)\n",
        "print(dataset[0][0].shape)\n",
        "#print(*dataset)\n"
      ],
      "execution_count": null,
      "outputs": [
        {
          "output_type": "stream",
          "text": [
            "torch.Size([4])\n"
          ],
          "name": "stdout"
        }
      ]
    },
    {
      "cell_type": "code",
      "metadata": {
        "id": "R-Xy9qlIzNQA"
      },
      "source": [
        "class MLP(nn.Module):\n",
        "\n",
        "    def __init__(self):\n",
        "        super().__init__()\n",
        "        self.fc1 = nn.Linear(4, 6)\n",
        "        # linear layer (n_hidden -> hidden_2)\n",
        "        self.fc2 = nn.Linear(4, 6)\n",
        "        # linear layer (n_hidden -> 10)\n",
        "        self.fc3 = nn.Linear(4, 6)\n",
        "        # dropout layer (p=0.2)\n",
        "        # dropout prevents overfitting of data\n",
        "        self.dropout = nn.Dropout(0.2)\n",
        "\n",
        "    def forward(self, x):\n",
        "        x = F.torch.relu(self.fc1(x))\n",
        "        # add hidden layer, with relu activation functio\n",
        "        return x\n",
        "\n",
        "    def training_step(self, batch):\n",
        "        inputs, targets = batch\n",
        "        # Generate predictions\n",
        "        out = self(inputs)\n",
        "        # Calcuate loss\n",
        "        loss = F.l1_loss(out, targets)\n",
        "        return loss\n",
        "\n",
        "    def validation_step(self, batch):\n",
        "        inputs, targets = batch\n",
        "        # Generate predictions\n",
        "        out = self(inputs)\n",
        "        # Calculate loss\n",
        "        loss = F.l1_loss(out, targets)\n",
        "        return {'val_loss': loss.detach()}\n",
        "\n",
        "    def validation_epoch_end(self, outputs):\n",
        "        batch_losses = [x['val_loss'] for x in outputs]\n",
        "        #batch_acc = [z['val_acc'] for z in outputs]\n",
        "        epoch_loss = torch.stack(batch_losses).mean()  # Combine losses\n",
        "        #epoch_acc = torch_stack(batch_acc).mean()\n",
        "        return {'val_loss': epoch_loss.item()}\n",
        "\n",
        "    def epoch_end(self, epoch, result, num_epochs):\n",
        "        # Print result every 100th epoch\n",
        "        if (epoch + 1) % 10 == 0 or epoch == num_epochs - 1:\n",
        "            print(\"Epoch [{}], val_loss: {:.4f}\".format(epoch + 1, result['val_loss']))"
      ],
      "execution_count": null,
      "outputs": []
    },
    {
      "cell_type": "code",
      "metadata": {
        "id": "FZm1MUkCWPAi"
      },
      "source": [
        "train_x, val_x = random_split(dataset, [105000, 320])\n",
        "train_loader = DataLoader(train_x, batch_size=32, shuffle=True)"
      ],
      "execution_count": null,
      "outputs": []
    },
    {
      "cell_type": "code",
      "metadata": {
        "id": "ezCL-_mzf8es"
      },
      "source": [
        "def evaluate(model, val_loader):\n",
        "    outputs = [model.validation_step(batch) for batch in val_loader]\n",
        "    return model.validation_epoch_end(outputs)\n",
        "\n",
        "def backward(epochs, lr, model, train_loader, val_loader, opt_func=torch.optim.SGD):\n",
        "    history = []\n",
        "    optimizer = opt_func(model.parameters(), lr)\n",
        "    for epoch in range(epochs):\n",
        "        # Training Phase\n",
        "        for batch in train_loader:\n",
        "            loss = model.training_step(batch)\n",
        "            loss.backward()\n",
        "            optimizer.step()\n",
        "            optimizer.zero_grad()\n",
        "        # Validation phase\n",
        "        result = evaluate(model, val_loader)\n",
        "        model.epoch_end(epoch, result, epochs)\n",
        "        history.append(result)\n",
        "    return history\n"
      ],
      "execution_count": null,
      "outputs": []
    },
    {
      "cell_type": "code",
      "metadata": {
        "colab": {
          "base_uri": "https://localhost:8080/"
        },
        "id": "Kcx-l1Mwgad3",
        "outputId": "2aed8d66-1f7e-4267-ee6a-0a9c64d10e71"
      },
      "source": [
        "model = MLP()\n",
        "result = evaluate(model, train_loader)\n",
        "print(result)"
      ],
      "execution_count": null,
      "outputs": [
        {
          "output_type": "stream",
          "text": [
            "{'val_loss': 0.3326951563358307}\n"
          ],
          "name": "stdout"
        }
      ]
    },
    {
      "cell_type": "code",
      "metadata": {
        "id": "yy_TcTfQkS1w",
        "colab": {
          "base_uri": "https://localhost:8080/"
        },
        "outputId": "10b0269f-5356-494d-c41b-0fdf0965105c"
      },
      "source": [
        "epochs = 1000\n",
        "lr = 1e-2\n",
        "history1 = backward(epochs, lr, model, train_loader, val_x)\n"
      ],
      "execution_count": null,
      "outputs": [
        {
          "output_type": "stream",
          "text": [
            "Epoch [10], val_loss: 0.0780\n",
            "Epoch [20], val_loss: 0.0757\n",
            "Epoch [30], val_loss: 0.0743\n",
            "Epoch [40], val_loss: 0.0732\n",
            "Epoch [50], val_loss: 0.0723\n",
            "Epoch [60], val_loss: 0.0716\n",
            "Epoch [70], val_loss: 0.0710\n",
            "Epoch [80], val_loss: 0.0707\n",
            "Epoch [90], val_loss: 0.0706\n",
            "Epoch [100], val_loss: 0.0704\n"
          ],
          "name": "stdout"
        }
      ]
    },
    {
      "cell_type": "code",
      "metadata": {
        "colab": {
          "base_uri": "https://localhost:8080/",
          "height": 295
        },
        "id": "aTr3DhJE8le9",
        "outputId": "276ba379-c279-408b-dedf-3a7a2f40ec23"
      },
      "source": [
        "plt.title('val_loss vs. No. of epochs');\n",
        "loss_mat = [res['val_loss'] for res in [result] + history1]\n",
        "plt.plot(loss_mat, '-x')\n",
        "plt.xlabel('epoch')\n",
        "plt.ylabel('val_loss')\n",
        "val_loss = loss_mat[-1]\n",
        "plt.show()"
      ],
      "execution_count": null,
      "outputs": [
        {
          "output_type": "display_data",
          "data": {
            "image/png": "[encoded data removed]",
            "text/plain": [
              "<Figure size 432x288 with 1 Axes>"
            ]
          },
          "metadata": {
            "tags": [],
            "needs_background": "light"
          }
        }
      ]
    },
    {
      "cell_type": "code",
      "metadata": {
        "colab": {
          "base_uri": "https://localhost:8080/"
        },
        "id": "g0PfXdo1-jwU",
        "outputId": "ba77f4a8-47ca-4ecd-f3e2-aacd2a893ea0"
      },
      "source": [
        "epochs = 1000\n",
        "lr = 1e-3\n",
        "history2 = backward(epochs, lr, model, train_loader, val_x)"
      ],
      "execution_count": null,
      "outputs": [
        {
          "output_type": "stream",
          "text": [
            "Epoch [10], val_loss: 0.0704\n",
            "Epoch [20], val_loss: 0.0704\n",
            "Epoch [30], val_loss: 0.0704\n",
            "Epoch [40], val_loss: 0.0704\n",
            "Epoch [50], val_loss: 0.0704\n",
            "Epoch [60], val_loss: 0.0704\n",
            "Epoch [70], val_loss: 0.0703\n",
            "Epoch [80], val_loss: 0.0703\n",
            "Epoch [90], val_loss: 0.0703\n",
            "Epoch [100], val_loss: 0.0703\n",
            "Epoch [110], val_loss: 0.0703\n",
            "Epoch [120], val_loss: 0.0703\n",
            "Epoch [130], val_loss: 0.0703\n",
            "Epoch [140], val_loss: 0.0703\n",
            "Epoch [150], val_loss: 0.0703\n",
            "Epoch [160], val_loss: 0.0702\n",
            "Epoch [170], val_loss: 0.0702\n",
            "Epoch [180], val_loss: 0.0702\n",
            "Epoch [190], val_loss: 0.0702\n",
            "Epoch [200], val_loss: 0.0702\n",
            "Epoch [210], val_loss: 0.0702\n",
            "Epoch [220], val_loss: 0.0702\n",
            "Epoch [230], val_loss: 0.0702\n",
            "Epoch [240], val_loss: 0.0702\n",
            "Epoch [250], val_loss: 0.0702\n",
            "Epoch [260], val_loss: 0.0701\n",
            "Epoch [270], val_loss: 0.0701\n",
            "Epoch [280], val_loss: 0.0701\n",
            "Epoch [290], val_loss: 0.0701\n",
            "Epoch [300], val_loss: 0.0701\n",
            "Epoch [310], val_loss: 0.0701\n",
            "Epoch [320], val_loss: 0.0701\n",
            "Epoch [330], val_loss: 0.0701\n",
            "Epoch [340], val_loss: 0.0701\n",
            "Epoch [350], val_loss: 0.0701\n",
            "Epoch [360], val_loss: 0.0701\n",
            "Epoch [370], val_loss: 0.0700\n",
            "Epoch [380], val_loss: 0.0700\n",
            "Epoch [390], val_loss: 0.0700\n",
            "Epoch [400], val_loss: 0.0700\n",
            "Epoch [410], val_loss: 0.0700\n",
            "Epoch [420], val_loss: 0.0700\n",
            "Epoch [430], val_loss: 0.0700\n",
            "Epoch [440], val_loss: 0.0700\n",
            "Epoch [450], val_loss: 0.0700\n",
            "Epoch [460], val_loss: 0.0700\n",
            "Epoch [470], val_loss: 0.0700\n",
            "Epoch [480], val_loss: 0.0700\n",
            "Epoch [490], val_loss: 0.0699\n",
            "Epoch [500], val_loss: 0.0699\n",
            "Epoch [510], val_loss: 0.0699\n",
            "Epoch [520], val_loss: 0.0699\n",
            "Epoch [530], val_loss: 0.0699\n",
            "Epoch [540], val_loss: 0.0699\n",
            "Epoch [550], val_loss: 0.0699\n",
            "Epoch [560], val_loss: 0.0699\n",
            "Epoch [570], val_loss: 0.0699\n",
            "Epoch [580], val_loss: 0.0699\n",
            "Epoch [590], val_loss: 0.0699\n",
            "Epoch [600], val_loss: 0.0699\n",
            "Epoch [610], val_loss: 0.0698\n",
            "Epoch [620], val_loss: 0.0698\n",
            "Epoch [630], val_loss: 0.0698\n",
            "Epoch [640], val_loss: 0.0698\n",
            "Epoch [650], val_loss: 0.0698\n",
            "Epoch [660], val_loss: 0.0698\n",
            "Epoch [670], val_loss: 0.0698\n",
            "Epoch [680], val_loss: 0.0698\n",
            "Epoch [690], val_loss: 0.0698\n",
            "Epoch [700], val_loss: 0.0698\n",
            "Epoch [710], val_loss: 0.0698\n",
            "Epoch [720], val_loss: 0.0698\n",
            "Epoch [730], val_loss: 0.0698\n",
            "Epoch [740], val_loss: 0.0697\n",
            "Epoch [750], val_loss: 0.0697\n",
            "Epoch [760], val_loss: 0.0697\n",
            "Epoch [770], val_loss: 0.0697\n",
            "Epoch [780], val_loss: 0.0697\n",
            "Epoch [790], val_loss: 0.0697\n",
            "Epoch [800], val_loss: 0.0697\n",
            "Epoch [810], val_loss: 0.0697\n",
            "Epoch [820], val_loss: 0.0697\n",
            "Epoch [830], val_loss: 0.0697\n",
            "Epoch [840], val_loss: 0.0697\n",
            "Epoch [850], val_loss: 0.0697\n",
            "Epoch [860], val_loss: 0.0697\n",
            "Epoch [870], val_loss: 0.0696\n",
            "Epoch [880], val_loss: 0.0696\n",
            "Epoch [890], val_loss: 0.0696\n",
            "Epoch [900], val_loss: 0.0696\n",
            "Epoch [910], val_loss: 0.0696\n",
            "Epoch [920], val_loss: 0.0696\n",
            "Epoch [930], val_loss: 0.0696\n",
            "Epoch [940], val_loss: 0.0696\n",
            "Epoch [950], val_loss: 0.0696\n",
            "Epoch [960], val_loss: 0.0696\n",
            "Epoch [970], val_loss: 0.0696\n",
            "Epoch [980], val_loss: 0.0696\n",
            "Epoch [990], val_loss: 0.0696\n",
            "Epoch [1000], val_loss: 0.0695\n"
          ],
          "name": "stdout"
        }
      ]
    },
    {
      "cell_type": "code",
      "metadata": {
        "colab": {
          "base_uri": "https://localhost:8080/",
          "height": 295
        },
        "id": "0yP5qphjUdTs",
        "outputId": "6334fd12-6360-44a4-8ab8-012eadb7e1c4"
      },
      "source": [
        "plt.title('val_loss vs. No. of epochs');\n",
        "loss_mat = [res['val_loss'] for res in [result] + history2]\n",
        "plt.plot(loss_mat, '-x')\n",
        "plt.xlabel('epoch')\n",
        "plt.ylabel('val_loss')\n",
        "val_loss = loss_mat[-1]\n",
        "plt.show()"
      ],
      "execution_count": null,
      "outputs": [
        {
          "output_type": "display_data",
          "data": {
            "image/png": "[encoded data removed]",
            "text/plain": [
              "<Figure size 432x288 with 1 Axes>"
            ]
          },
          "metadata": {
            "tags": [],
            "needs_background": "light"
          }
        }
      ]
    }
  ]
}